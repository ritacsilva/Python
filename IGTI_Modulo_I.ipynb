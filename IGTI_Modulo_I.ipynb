{
  "nbformat": 4,
  "nbformat_minor": 0,
  "metadata": {
    "colab": {
      "name": "IGTI_Modulo_I.ipynb",
      "provenance": [],
      "collapsed_sections": [],
      "authorship_tag": "ABX9TyPQ3HCaUaXS1otGQ7+/EIdz",
      "include_colab_link": true
    },
    "kernelspec": {
      "name": "python3",
      "display_name": "Python 3"
    }
  },
  "cells": [
    {
      "cell_type": "markdown",
      "metadata": {
        "id": "view-in-github",
        "colab_type": "text"
      },
      "source": [
        "<a href=\"https://colab.research.google.com/github/ritacsilva/blog-djangogirls/blob/master/IGTI_Modulo_I.ipynb\" target=\"_parent\"><img src=\"https://colab.research.google.com/assets/colab-badge.svg\" alt=\"Open In Colab\"/></a>"
      ]
    },
    {
      "cell_type": "code",
      "metadata": {
        "id": "htAz5Oo4_5L6",
        "colab_type": "code",
        "colab": {
          "base_uri": "https://localhost:8080/",
          "height": 67
        },
        "outputId": "aa35c61d-b13d-4de1-c96a-24d4c24fdba6"
      },
      "source": [
        "#Código_1\n",
        "idade = int(input(\"Entre com a idade:\"))\n",
        "nova_idade = idade + 1\n",
        "print (\"No próximo ano você tera: {} anos\"), format(nova_idade)"
      ],
      "execution_count": 22,
      "outputs": [
        {
          "output_type": "stream",
          "text": [
            "Entre com a idade:44\n",
            "No próximo ano você tera: {} anos\n"
          ],
          "name": "stdout"
        },
        {
          "output_type": "execute_result",
          "data": {
            "text/plain": [
              "(None, '45')"
            ]
          },
          "metadata": {
            "tags": []
          },
          "execution_count": 22
        }
      ]
    },
    {
      "cell_type": "code",
      "metadata": {
        "id": "aOkS7h34giPv",
        "colab_type": "code",
        "colab": {
          "base_uri": "https://localhost:8080/",
          "height": 34
        },
        "outputId": "7ccdcfbe-757c-4c3d-8bb9-2e02e0581282"
      },
      "source": [
        "#Código_2\n",
        "lado_a = 35\n",
        "lado_b = 14.33333\n",
        "area_do_retangulo = (lado_a) * (lado_b)\n",
        "print ('O retângulo de lado A = %d e lado B = %.2f é %.3f' %(lado_a,lado_b,area_do_retangulo))"
      ],
      "execution_count": 2,
      "outputs": [
        {
          "output_type": "stream",
          "text": [
            "O retângulo de lado A = 35 e lado B = 14.33 é 501.667\n"
          ],
          "name": "stdout"
        }
      ]
    },
    {
      "cell_type": "code",
      "metadata": {
        "id": "0dYGU2_Ch7uF",
        "colab_type": "code",
        "colab": {
          "base_uri": "https://localhost:8080/",
          "height": 34
        },
        "outputId": "50423b8c-8229-42e5-fc04-ace2428b6a5c"
      },
      "source": [
        "#Código_3\n",
        "lista_1 = [1,2,'IGTI']\n",
        "lista_2 = [2,3,\"Bootcamp\"]\n",
        "lista_3 = lista_1 + lista_2\n",
        "print(lista_3)\n"
      ],
      "execution_count": 3,
      "outputs": [
        {
          "output_type": "stream",
          "text": [
            "[1, 2, 'IGTI', 2, 3, 'Bootcamp']\n"
          ],
          "name": "stdout"
        }
      ]
    },
    {
      "cell_type": "code",
      "metadata": {
        "id": "sstKITRAleu_",
        "colab_type": "code",
        "colab": {
          "base_uri": "https://localhost:8080/",
          "height": 101
        },
        "outputId": "b3c74542-75f8-4041-9364-df17c442e284"
      },
      "source": [
        "#Código_4\n",
        "chute = int(input('Entre com um valor inteiro de 0 a 30: '))\n",
        "adivinhacao = [5, 6, 10, 14, 16, 20, 30]\n",
        "if chute in adivinhacao:\n",
        "  print('Voce acertou um dos números que eu estava pensando.')\n",
        "\n",
        "  if chute > 15:\n",
        "    print('Esse número é maior que 20.')\n",
        "\n",
        "  if chute < 20:\n",
        "    print('Esse número é menor que 20.')\n",
        "\n",
        "    print('Você é fera.')\n",
        "  else:\n",
        "    print('Que pena, você errou. Pode tentar outra vez.')\n",
        "  print('Obrigada por participar.')"
      ],
      "execution_count": 14,
      "outputs": [
        {
          "output_type": "stream",
          "text": [
            "Entre com um valor inteiro de 0 a 30: 20\n",
            "Voce acertou um dos números que eu estava pensando.\n",
            "Esse número é maior que 20.\n",
            "Que pena, você errou. Pode tentar outra vez.\n",
            "Obrigada por participar.\n"
          ],
          "name": "stdout"
        }
      ]
    },
    {
      "cell_type": "code",
      "metadata": {
        "id": "zXlA9gqBo85F",
        "colab_type": "code",
        "colab": {
          "base_uri": "https://localhost:8080/",
          "height": 50
        },
        "outputId": "5b45a635-957c-4397-acf0-a1ece3be943e"
      },
      "source": [
        "#Código_5\n",
        "frutas = [\"maça\", \"banana\", \"uva\", \"goiaba\"]\n",
        "for x in frutas:\n",
        "  if x == \"uva\":\n",
        "    break\n",
        "  print(x)"
      ],
      "execution_count": 16,
      "outputs": [
        {
          "output_type": "stream",
          "text": [
            "maça\n",
            "banana\n"
          ],
          "name": "stdout"
        }
      ]
    },
    {
      "cell_type": "code",
      "metadata": {
        "id": "c1gyA79NqKho",
        "colab_type": "code",
        "colab": {
          "base_uri": "https://localhost:8080/",
          "height": 118
        },
        "outputId": "e44413b3-cb86-4803-fa2f-c5304169011c"
      },
      "source": [
        "#Codigo_6\n",
        "n = 5\n",
        "while n >= 0:\n",
        "  n -= 1\n",
        "  print(n)\n"
      ],
      "execution_count": 20,
      "outputs": [
        {
          "output_type": "stream",
          "text": [
            "4\n",
            "3\n",
            "2\n",
            "1\n",
            "0\n",
            "-1\n"
          ],
          "name": "stdout"
        }
      ]
    }
  ]
}